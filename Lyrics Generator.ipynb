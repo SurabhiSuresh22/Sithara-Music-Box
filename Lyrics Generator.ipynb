{
 "cells": [
  {
   "cell_type": "markdown",
   "metadata": {},
   "source": [
    "## Notebook for LSTM Model Creation and Training"
   ]
  },
  {
   "cell_type": "code",
   "execution_count": 1,
   "metadata": {},
   "outputs": [],
   "source": [
    "# importing the all the required libraries for text preprocessing and model creation\n",
    "\n",
    "import pandas as pd\n",
    "import numpy as np\n",
    "import warnings\n",
    "import pickle\n",
    "warnings. filterwarnings(\"ignore\")\n",
    "\n",
    "\n",
    "from tensorflow.keras.layers import (Embedding,\n",
    "                         Dense,\n",
    "                         LSTM,\n",
    "                         Bidirectional,\n",
    "                         Dropout\n",
    "                         )\n",
    "from tensorflow.keras.models import Sequential\n",
    "from tensorflow.keras.preprocessing.sequence import pad_sequences\n",
    "from tensorflow.keras.preprocessing.text import Tokenizer\n",
    "from tensorflow.keras.utils import to_categorical\n",
    "from tensorflow.keras.optimizers import Adam\n",
    "from tensorflow.keras.callbacks import EarlyStopping"
   ]
  },
  {
   "cell_type": "code",
   "execution_count": 2,
   "metadata": {},
   "outputs": [],
   "source": [
    "# importing the dataset\n",
    "\n",
    "df = pd.read_csv(\"Data/lyrics_data.csv\")"
   ]
  },
  {
   "cell_type": "code",
   "execution_count": 3,
   "metadata": {},
   "outputs": [],
   "source": [
    "# droping NaN columns if any.\n",
    "\n",
    "df.dropna(inplace = True)"
   ]
  },
  {
   "cell_type": "code",
   "execution_count": 4,
   "metadata": {},
   "outputs": [
    {
     "data": {
      "text/html": [
       "<div>\n",
       "<style scoped>\n",
       "    .dataframe tbody tr th:only-of-type {\n",
       "        vertical-align: middle;\n",
       "    }\n",
       "\n",
       "    .dataframe tbody tr th {\n",
       "        vertical-align: top;\n",
       "    }\n",
       "\n",
       "    .dataframe thead th {\n",
       "        text-align: right;\n",
       "    }\n",
       "</style>\n",
       "<table border=\"1\" class=\"dataframe\">\n",
       "  <thead>\n",
       "    <tr style=\"text-align: right;\">\n",
       "      <th></th>\n",
       "      <th>Lyrics</th>\n",
       "    </tr>\n",
       "  </thead>\n",
       "  <tbody>\n",
       "    <tr>\n",
       "      <th>0</th>\n",
       "      <td>ennilerinju thudangia thee kanal nenjinakath p...</td>\n",
       "    </tr>\n",
       "    <tr>\n",
       "      <th>1</th>\n",
       "      <td>veripidichutti kadal ilaki varunathu pole mara...</td>\n",
       "    </tr>\n",
       "    <tr>\n",
       "      <th>2</th>\n",
       "      <td>kathakil mutti vilichath pole bhaamath maanju ...</td>\n",
       "    </tr>\n",
       "    <tr>\n",
       "      <th>3</th>\n",
       "      <td>pahuthiluude thalarukilloru shakalavum ini pat...</td>\n",
       "    </tr>\n",
       "    <tr>\n",
       "      <th>4</th>\n",
       "      <td>vechaaudhathinte moorchaundente vakkilum innu ...</td>\n",
       "    </tr>\n",
       "  </tbody>\n",
       "</table>\n",
       "</div>"
      ],
      "text/plain": [
       "                                              Lyrics\n",
       "0  ennilerinju thudangia thee kanal nenjinakath p...\n",
       "1  veripidichutti kadal ilaki varunathu pole mara...\n",
       "2  kathakil mutti vilichath pole bhaamath maanju ...\n",
       "3  pahuthiluude thalarukilloru shakalavum ini pat...\n",
       "4  vechaaudhathinte moorchaundente vakkilum innu ..."
      ]
     },
     "execution_count": 4,
     "metadata": {},
     "output_type": "execute_result"
    }
   ],
   "source": [
    "df.head()"
   ]
  },
  {
   "cell_type": "code",
   "execution_count": 5,
   "metadata": {},
   "outputs": [],
   "source": [
    "# tokenizing using keras tokenizer\n",
    "\n",
    "tokenizer = Tokenizer()\n",
    "tokenizer.fit_on_texts(df[\"Lyrics\"])"
   ]
  },
  {
   "cell_type": "code",
   "execution_count": 6,
   "metadata": {},
   "outputs": [
    {
     "data": {
      "text/plain": [
       "840"
      ]
     },
     "execution_count": 6,
     "metadata": {},
     "output_type": "execute_result"
    }
   ],
   "source": [
    "# total vocabulary size\n",
    "VOC_SIZE = len(tokenizer.word_index)+1\n",
    "VOC_SIZE"
   ]
  },
  {
   "cell_type": "code",
   "execution_count": 7,
   "metadata": {},
   "outputs": [
    {
     "data": {
      "text/plain": [
       "[171, 172, 89, 173, 174]"
      ]
     },
     "execution_count": 7,
     "metadata": {},
     "output_type": "execute_result"
    }
   ],
   "source": [
    "#tokenizer.texts_to_sequences([\"ennilerinju thudangia thee kanal nenjinakath\"])[0]"
   ]
  },
  {
   "cell_type": "code",
   "execution_count": null,
   "metadata": {},
   "outputs": [],
   "source": []
  },
  {
   "cell_type": "code",
   "execution_count": 8,
   "metadata": {},
   "outputs": [],
   "source": [
    "songs = df[\"Lyrics\"]"
   ]
  },
  {
   "cell_type": "code",
   "execution_count": 9,
   "metadata": {},
   "outputs": [],
   "source": [
    "#Function for input data preperation\n",
    "\n",
    "def data_prep(songs, tokenizer):\n",
    "    \n",
    "    data = []\n",
    "    for sent in songs:\n",
    "        text_sequence = tokenizer.texts_to_sequences([sent])[0]\n",
    "        \n",
    "        for i in range(1, len(text_sequence)):\n",
    "            data.append(text_sequence[:i+1])\n",
    "            \n",
    "    max_len = max([len(sequence) for sequence in data]) # finding the length of the largest sequence\n",
    "        \n",
    "    padded_sequence = pad_sequences(data, maxlen = max_len, padding = \"pre\") # padding to make all sequence equal\n",
    "   \n",
    "    \n",
    "    return padded_sequence"
   ]
  },
  {
   "cell_type": "code",
   "execution_count": 10,
   "metadata": {},
   "outputs": [],
   "source": [
    "processed_data = data_prep(songs, tokenizer)"
   ]
  },
  {
   "cell_type": "code",
   "execution_count": null,
   "metadata": {},
   "outputs": [],
   "source": []
  },
  {
   "cell_type": "code",
   "execution_count": 11,
   "metadata": {},
   "outputs": [
    {
     "data": {
      "text/plain": [
       "(array([[  0,   0,   0, ...,   0, 171, 172],\n",
       "        [  0,   0,   0, ..., 171, 172,  89],\n",
       "        [  0,   0,   0, ..., 172,  89, 173],\n",
       "        ...,\n",
       "        [  0,   0,   0, ...,  35,  39,  86],\n",
       "        [  0,   0,   0, ...,  39,  86,  87],\n",
       "        [  0,   0,   0, ...,  86,  87,  88]]),\n",
       " (1405, 8))"
      ]
     },
     "execution_count": 11,
     "metadata": {},
     "output_type": "execute_result"
    }
   ],
   "source": [
    "processed_data, processed_data.shape"
   ]
  },
  {
   "cell_type": "code",
   "execution_count": 12,
   "metadata": {},
   "outputs": [
    {
     "data": {
      "text/plain": [
       "array([  0,   0,   0,   0,   0,   0, 171, 172])"
      ]
     },
     "execution_count": 12,
     "metadata": {},
     "output_type": "execute_result"
    }
   ],
   "source": [
    "processed_data[0]"
   ]
  },
  {
   "cell_type": "code",
   "execution_count": null,
   "metadata": {},
   "outputs": [],
   "source": []
  },
  {
   "cell_type": "code",
   "execution_count": 13,
   "metadata": {},
   "outputs": [],
   "source": [
    "X = processed_data[:,:-1]\n",
    "y = to_categorical(processed_data[:,-1], num_classes = VOC_SIZE)"
   ]
  },
  {
   "cell_type": "code",
   "execution_count": 15,
   "metadata": {},
   "outputs": [],
   "source": [
    "#length of a sequence\n",
    "INPUT_LENGTH = len(X[0])\n",
    "\n",
    "#function for model creation\n",
    "\n",
    "def create_model():\n",
    "    \n",
    "    LEARNING_RATE = 0.001\n",
    "    \n",
    "    model = Sequential()\n",
    "    model.add(Embedding(VOC_SIZE, 32, input_length = INPUT_LENGTH))\n",
    "    model.add(Bidirectional(LSTM(64)))\n",
    "    model.add(Dropout(0.2))\n",
    "    model.add(Dense(VOC_SIZE, activation = \"softmax\"))\n",
    "    \n",
    "    model.compile(optimizer = Adam(LEARNING_RATE),\n",
    "                  loss = \"categorical_crossentropy\",\n",
    "                  metrics = [\"accuracy\"])\n",
    "    \n",
    "    return model\n",
    "    \n",
    "    "
   ]
  },
  {
   "cell_type": "code",
   "execution_count": 16,
   "metadata": {},
   "outputs": [],
   "source": [
    "model = create_model()"
   ]
  },
  {
   "cell_type": "code",
   "execution_count": 17,
   "metadata": {},
   "outputs": [
    {
     "name": "stdout",
     "output_type": "stream",
     "text": [
      "Model: \"sequential\"\n",
      "_________________________________________________________________\n",
      "Layer (type)                 Output Shape              Param #   \n",
      "=================================================================\n",
      "embedding (Embedding)        (None, 7, 32)             26880     \n",
      "_________________________________________________________________\n",
      "bidirectional (Bidirectional (None, 128)               49664     \n",
      "_________________________________________________________________\n",
      "dropout (Dropout)            (None, 128)               0         \n",
      "_________________________________________________________________\n",
      "dense (Dense)                (None, 840)               108360    \n",
      "=================================================================\n",
      "Total params: 184,904\n",
      "Trainable params: 184,904\n",
      "Non-trainable params: 0\n",
      "_________________________________________________________________\n"
     ]
    }
   ],
   "source": [
    "model.summary()"
   ]
  },
  {
   "cell_type": "code",
   "execution_count": 18,
   "metadata": {},
   "outputs": [
    {
     "name": "stdout",
     "output_type": "stream",
     "text": [
      "Epoch 1/100\n",
      "44/44 [==============================] - 1s 21ms/step - loss: 6.7326 - accuracy: 0.0149\n",
      "Epoch 2/100\n",
      "44/44 [==============================] - 1s 17ms/step - loss: 6.6136 - accuracy: 0.0178\n",
      "Epoch 3/100\n",
      "44/44 [==============================] - 1s 17ms/step - loss: 6.3110 - accuracy: 0.0164\n",
      "Epoch 4/100\n",
      "44/44 [==============================] - 1s 18ms/step - loss: 6.0916 - accuracy: 0.0171ETA: 0s - loss: 6.1\n",
      "Epoch 5/100\n",
      "44/44 [==============================] - 1s 18ms/step - loss: 5.9570 - accuracy: 0.0242\n",
      "Epoch 6/100\n",
      "44/44 [==============================] - 1s 17ms/step - loss: 5.8161 - accuracy: 0.0263\n",
      "Epoch 7/100\n",
      "44/44 [==============================] - 1s 16ms/step - loss: 5.6566 - accuracy: 0.0313\n",
      "Epoch 8/100\n",
      "44/44 [==============================] - 1s 15ms/step - loss: 5.4748 - accuracy: 0.0406\n",
      "Epoch 9/100\n",
      "44/44 [==============================] - 1s 15ms/step - loss: 5.2748 - accuracy: 0.0527\n",
      "Epoch 10/100\n",
      "44/44 [==============================] - 1s 14ms/step - loss: 5.0768 - accuracy: 0.0491\n",
      "Epoch 11/100\n",
      "44/44 [==============================] - 1s 16ms/step - loss: 4.8721 - accuracy: 0.0790 0s - loss: 4\n",
      "Epoch 12/100\n",
      "44/44 [==============================] - 1s 14ms/step - loss: 4.6729 - accuracy: 0.0954\n",
      "Epoch 13/100\n",
      "44/44 [==============================] - 1s 12ms/step - loss: 4.4869 - accuracy: 0.1004\n",
      "Epoch 14/100\n",
      "44/44 [==============================] - 0s 10ms/step - loss: 4.3009 - accuracy: 0.1331\n",
      "Epoch 15/100\n",
      "44/44 [==============================] - 0s 11ms/step - loss: 4.1616 - accuracy: 0.1488\n",
      "Epoch 16/100\n",
      "44/44 [==============================] - 1s 12ms/step - loss: 3.9855 - accuracy: 0.1694\n",
      "Epoch 17/100\n",
      "44/44 [==============================] - 1s 12ms/step - loss: 3.8376 - accuracy: 0.1936\n",
      "Epoch 18/100\n",
      "44/44 [==============================] - 1s 11ms/step - loss: 3.7093 - accuracy: 0.2149\n",
      "Epoch 19/100\n",
      "44/44 [==============================] - 1s 12ms/step - loss: 3.5352 - accuracy: 0.2505 0s - loss: 3.5352 - accuracy: 0.25\n",
      "Epoch 20/100\n",
      "44/44 [==============================] - 1s 12ms/step - loss: 3.3865 - accuracy: 0.2826\n",
      "Epoch 21/100\n",
      "44/44 [==============================] - 1s 12ms/step - loss: 3.2809 - accuracy: 0.2989\n",
      "Epoch 22/100\n",
      "44/44 [==============================] - 1s 11ms/step - loss: 3.1405 - accuracy: 0.3438\n",
      "Epoch 23/100\n",
      "44/44 [==============================] - 1s 12ms/step - loss: 3.0694 - accuracy: 0.3587\n",
      "Epoch 24/100\n",
      "44/44 [==============================] - 1s 12ms/step - loss: 2.9644 - accuracy: 0.3900 0s - loss: 2.9358 - accuracy\n",
      "Epoch 25/100\n",
      "44/44 [==============================] - 1s 12ms/step - loss: 2.8458 - accuracy: 0.3957\n",
      "Epoch 26/100\n",
      "44/44 [==============================] - 1s 12ms/step - loss: 2.7941 - accuracy: 0.4149\n",
      "Epoch 27/100\n",
      "44/44 [==============================] - 0s 11ms/step - loss: 2.6631 - accuracy: 0.4527\n",
      "Epoch 28/100\n",
      "44/44 [==============================] - 0s 11ms/step - loss: 2.5622 - accuracy: 0.4797\n",
      "Epoch 29/100\n",
      "44/44 [==============================] - 1s 11ms/step - loss: 2.4648 - accuracy: 0.4968\n",
      "Epoch 30/100\n",
      "44/44 [==============================] - 1s 12ms/step - loss: 2.3824 - accuracy: 0.5025\n",
      "Epoch 31/100\n",
      "44/44 [==============================] - 1s 12ms/step - loss: 2.2899 - accuracy: 0.5367\n",
      "Epoch 32/100\n",
      "44/44 [==============================] - 0s 11ms/step - loss: 2.2324 - accuracy: 0.5459\n",
      "Epoch 33/100\n",
      "44/44 [==============================] - 1s 12ms/step - loss: 2.1540 - accuracy: 0.5687\n",
      "Epoch 34/100\n",
      "44/44 [==============================] - 1s 12ms/step - loss: 2.0692 - accuracy: 0.5936\n",
      "Epoch 35/100\n",
      "44/44 [==============================] - 0s 11ms/step - loss: 2.0071 - accuracy: 0.6192\n",
      "Epoch 36/100\n",
      "44/44 [==============================] - 1s 12ms/step - loss: 1.9219 - accuracy: 0.6441\n",
      "Epoch 37/100\n",
      "44/44 [==============================] - 1s 12ms/step - loss: 1.8599 - accuracy: 0.6655\n",
      "Epoch 38/100\n",
      "44/44 [==============================] - 1s 12ms/step - loss: 1.7934 - accuracy: 0.6612\n",
      "Epoch 39/100\n",
      "44/44 [==============================] - 1s 12ms/step - loss: 1.7367 - accuracy: 0.6840\n",
      "Epoch 40/100\n",
      "44/44 [==============================] - 1s 12ms/step - loss: 1.6689 - accuracy: 0.7110\n",
      "Epoch 41/100\n",
      "44/44 [==============================] - 1s 12ms/step - loss: 1.6287 - accuracy: 0.7110\n",
      "Epoch 42/100\n",
      "44/44 [==============================] - 1s 12ms/step - loss: 1.5856 - accuracy: 0.7260\n",
      "Epoch 43/100\n",
      "44/44 [==============================] - 0s 11ms/step - loss: 1.5184 - accuracy: 0.7452\n",
      "Epoch 44/100\n",
      "44/44 [==============================] - 1s 13ms/step - loss: 1.4544 - accuracy: 0.7438\n",
      "Epoch 45/100\n",
      "44/44 [==============================] - 0s 11ms/step - loss: 1.3922 - accuracy: 0.7644\n",
      "Epoch 46/100\n",
      "44/44 [==============================] - 0s 11ms/step - loss: 1.3556 - accuracy: 0.7808 0s - loss: 1.2904 - accu\n",
      "Epoch 47/100\n",
      "44/44 [==============================] - 1s 12ms/step - loss: 1.3246 - accuracy: 0.7822\n",
      "Epoch 48/100\n",
      "44/44 [==============================] - 0s 11ms/step - loss: 1.2722 - accuracy: 0.7972\n",
      "Epoch 49/100\n",
      "44/44 [==============================] - 1s 12ms/step - loss: 1.2238 - accuracy: 0.7979\n",
      "Epoch 50/100\n",
      "44/44 [==============================] - 0s 11ms/step - loss: 1.1958 - accuracy: 0.8157\n",
      "Epoch 51/100\n",
      "44/44 [==============================] - 1s 13ms/step - loss: 1.1315 - accuracy: 0.8306\n",
      "Epoch 52/100\n",
      "44/44 [==============================] - 1s 14ms/step - loss: 1.1067 - accuracy: 0.8434\n",
      "Epoch 53/100\n",
      "44/44 [==============================] - 1s 12ms/step - loss: 1.0684 - accuracy: 0.8427\n",
      "Epoch 54/100\n",
      "44/44 [==============================] - 1s 12ms/step - loss: 1.0537 - accuracy: 0.8520\n",
      "Epoch 55/100\n",
      "44/44 [==============================] - 1s 12ms/step - loss: 1.0262 - accuracy: 0.8377\n",
      "Epoch 56/100\n",
      "44/44 [==============================] - 1s 12ms/step - loss: 0.9878 - accuracy: 0.8577\n",
      "Epoch 57/100\n",
      "44/44 [==============================] - 1s 12ms/step - loss: 0.9490 - accuracy: 0.8598\n",
      "Epoch 58/100\n",
      "44/44 [==============================] - 1s 12ms/step - loss: 0.9107 - accuracy: 0.8641\n",
      "Epoch 59/100\n",
      "44/44 [==============================] - 1s 12ms/step - loss: 0.8845 - accuracy: 0.8783\n",
      "Epoch 60/100\n",
      "44/44 [==============================] - 1s 12ms/step - loss: 0.8403 - accuracy: 0.8847\n",
      "Epoch 61/100\n",
      "44/44 [==============================] - 1s 12ms/step - loss: 0.8320 - accuracy: 0.8811\n",
      "Epoch 62/100\n",
      "44/44 [==============================] - 1s 12ms/step - loss: 0.7890 - accuracy: 0.9011\n",
      "Epoch 63/100\n",
      "44/44 [==============================] - 1s 12ms/step - loss: 0.7833 - accuracy: 0.8918 0s - loss: 0.7474 - ac\n",
      "Epoch 64/100\n",
      "44/44 [==============================] - 0s 11ms/step - loss: 0.7523 - accuracy: 0.8961\n",
      "Epoch 65/100\n",
      "44/44 [==============================] - 1s 12ms/step - loss: 0.7331 - accuracy: 0.9039\n",
      "Epoch 66/100\n",
      "44/44 [==============================] - 1s 12ms/step - loss: 0.7197 - accuracy: 0.9089\n",
      "Epoch 67/100\n",
      "44/44 [==============================] - 1s 13ms/step - loss: 0.6867 - accuracy: 0.9181\n",
      "Epoch 68/100\n",
      "44/44 [==============================] - 1s 12ms/step - loss: 0.6529 - accuracy: 0.9153\n",
      "Epoch 69/100\n",
      "44/44 [==============================] - 1s 13ms/step - loss: 0.6358 - accuracy: 0.9203\n",
      "Epoch 70/100\n",
      "44/44 [==============================] - 1s 12ms/step - loss: 0.6336 - accuracy: 0.9224\n",
      "Epoch 71/100\n",
      "44/44 [==============================] - 1s 12ms/step - loss: 0.6496 - accuracy: 0.8996\n",
      "Epoch 72/100\n",
      "44/44 [==============================] - 1s 12ms/step - loss: 0.6205 - accuracy: 0.9117\n",
      "Epoch 73/100\n",
      "44/44 [==============================] - 1s 13ms/step - loss: 0.5974 - accuracy: 0.9174\n",
      "Epoch 74/100\n",
      "44/44 [==============================] - 0s 10ms/step - loss: 0.5564 - accuracy: 0.9210\n",
      "Epoch 75/100\n",
      "44/44 [==============================] - 1s 12ms/step - loss: 0.5410 - accuracy: 0.9302\n",
      "Epoch 76/100\n",
      "44/44 [==============================] - 1s 14ms/step - loss: 0.5279 - accuracy: 0.9359\n",
      "Epoch 77/100\n",
      "44/44 [==============================] - 1s 12ms/step - loss: 0.4968 - accuracy: 0.9381\n",
      "Epoch 78/100\n",
      "44/44 [==============================] - 0s 11ms/step - loss: 0.5054 - accuracy: 0.9295\n",
      "Epoch 79/100\n",
      "44/44 [==============================] - 1s 13ms/step - loss: 0.4747 - accuracy: 0.9423\n",
      "Epoch 80/100\n"
     ]
    },
    {
     "name": "stdout",
     "output_type": "stream",
     "text": [
      "44/44 [==============================] - 1s 12ms/step - loss: 0.4619 - accuracy: 0.9395\n",
      "Epoch 81/100\n",
      "44/44 [==============================] - 0s 10ms/step - loss: 0.4344 - accuracy: 0.9544\n",
      "Epoch 82/100\n",
      "44/44 [==============================] - 1s 12ms/step - loss: 0.4278 - accuracy: 0.9445\n",
      "Epoch 83/100\n",
      "44/44 [==============================] - 1s 12ms/step - loss: 0.4211 - accuracy: 0.9466\n",
      "Epoch 84/100\n",
      "44/44 [==============================] - 0s 10ms/step - loss: 0.4179 - accuracy: 0.9466\n",
      "Epoch 85/100\n",
      "44/44 [==============================] - 1s 13ms/step - loss: 0.4337 - accuracy: 0.9381\n",
      "Epoch 86/100\n",
      "44/44 [==============================] - 1s 12ms/step - loss: 0.4094 - accuracy: 0.9438 0s - loss: 0.4222 - ac\n",
      "Epoch 87/100\n",
      "44/44 [==============================] - 1s 13ms/step - loss: 0.3976 - accuracy: 0.9523\n",
      "Epoch 88/100\n",
      "44/44 [==============================] - 0s 11ms/step - loss: 0.3756 - accuracy: 0.9452\n",
      "Epoch 89/100\n",
      "44/44 [==============================] - 1s 12ms/step - loss: 0.3710 - accuracy: 0.9516\n",
      "Epoch 90/100\n",
      "44/44 [==============================] - 1s 12ms/step - loss: 0.3455 - accuracy: 0.9580\n",
      "Epoch 91/100\n",
      "44/44 [==============================] - 1s 12ms/step - loss: 0.3304 - accuracy: 0.9566\n",
      "Epoch 92/100\n",
      "44/44 [==============================] - 1s 13ms/step - loss: 0.3250 - accuracy: 0.9658\n",
      "Epoch 93/100\n",
      "44/44 [==============================] - 1s 13ms/step - loss: 0.3223 - accuracy: 0.9651\n",
      "Epoch 94/100\n",
      "44/44 [==============================] - 1s 12ms/step - loss: 0.3215 - accuracy: 0.9601\n",
      "Epoch 95/100\n",
      "44/44 [==============================] - 1s 13ms/step - loss: 0.3120 - accuracy: 0.9616\n",
      "Epoch 96/100\n",
      "44/44 [==============================] - 1s 12ms/step - loss: 0.2976 - accuracy: 0.9594\n",
      "Epoch 97/100\n",
      "44/44 [==============================] - 1s 11ms/step - loss: 0.2900 - accuracy: 0.9680\n",
      "Epoch 98/100\n",
      "44/44 [==============================] - 1s 12ms/step - loss: 0.2731 - accuracy: 0.9651\n",
      "Epoch 99/100\n",
      "44/44 [==============================] - 0s 11ms/step - loss: 0.2727 - accuracy: 0.9566\n",
      "Epoch 100/100\n",
      "44/44 [==============================] - 1s 13ms/step - loss: 0.2700 - accuracy: 0.9658\n"
     ]
    }
   ],
   "source": [
    "call_back = EarlyStopping(monitor = \"loss\", min_delta = 0.001, patience = 5)\n",
    "EPOCHS = 100\n",
    "BATCH_SIZE = 32\n",
    "\n",
    "# training the model\n",
    "history = model.fit(X,\n",
    "                    y,\n",
    "                    epochs = EPOCHS,\n",
    "                    batch_size = BATCH_SIZE,\n",
    "                    verbose = 1,\n",
    "                    callbacks = [call_back])\n"
   ]
  },
  {
   "cell_type": "code",
   "execution_count": null,
   "metadata": {},
   "outputs": [],
   "source": []
  },
  {
   "cell_type": "code",
   "execution_count": 19,
   "metadata": {},
   "outputs": [],
   "source": [
    "# saving the tokenizer and model for future use\n",
    "\n",
    "model.save(\"Models/model.h5\")\n",
    "pickle.dump(tokenizer, open(\"Models/tokenizer.pkl\", \"wb\"))"
   ]
  },
  {
   "cell_type": "code",
   "execution_count": 21,
   "metadata": {},
   "outputs": [
    {
     "name": "stdout",
     "output_type": "stream",
     "text": [
      "Enter the first few lyrics : Moha\n",
      "\n",
      "Predicted Lyrics : \n",
      "\n",
      "Moha mundiri vaatia ravu sneha rathiude rasanilavu hridhaaragam chiragil chiragil melle ethu arinjatheille neett akaleakale ninnu mutti thiruvaavaniraavu nee thotturummi polum vaarmukilu ponillanne niraumivide kadavathu lipiai hridhaaragam punnara sanjaaram charuvam ummakalaal neett neett neett neett thotturummi maravichu thudangum nenjin niraum athisaakara\n"
     ]
    }
   ],
   "source": [
    "first_lyric = input(\"Enter the first few lyrics : \")\n",
    "next_words = 40\n",
    "  \n",
    "for _ in range(next_words):\n",
    "    \n",
    "    tokenized = tokenizer.texts_to_sequences([first_lyric])[0] \n",
    "    padded_list = pad_sequences([tokenized], maxlen=INPUT_LENGTH, padding=\"pre\") \n",
    "    prediction = model.predict_classes(padded_list, verbose=0)\n",
    "\n",
    "    for word, index in tokenizer.word_index.items():\n",
    "        if index == prediction:\n",
    "            pred_word = word\n",
    "            break\n",
    "    first_lyric += \" \" + pred_word\n",
    "print(\"\\nPredicted Lyrics : \\n\")\n",
    "print(first_lyric)"
   ]
  },
  {
   "cell_type": "code",
   "execution_count": null,
   "metadata": {},
   "outputs": [],
   "source": []
  }
 ],
 "metadata": {
  "kernelspec": {
   "display_name": "Python 3",
   "language": "python",
   "name": "python3"
  },
  "language_info": {
   "codemirror_mode": {
    "name": "ipython",
    "version": 3
   },
   "file_extension": ".py",
   "mimetype": "text/x-python",
   "name": "python",
   "nbconvert_exporter": "python",
   "pygments_lexer": "ipython3",
   "version": "3.7.6"
  }
 },
 "nbformat": 4,
 "nbformat_minor": 4
}
