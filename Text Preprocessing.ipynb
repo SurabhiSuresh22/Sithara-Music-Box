{
 "cells": [
  {
   "cell_type": "code",
   "execution_count": 1,
   "metadata": {},
   "outputs": [],
   "source": [
    "# importing libraries\n",
    "\n",
    "import pandas as pd\n",
    "import re"
   ]
  },
  {
   "cell_type": "code",
   "execution_count": 2,
   "metadata": {},
   "outputs": [],
   "source": [
    "# importing the text lyrics file\n",
    "\n",
    "songs = open(\"Data/sithara songs.txt\").read()"
   ]
  },
  {
   "cell_type": "code",
   "execution_count": 3,
   "metadata": {},
   "outputs": [
    {
     "data": {
      "text/plain": [
       "'Ennilerinju thudangiya thee kanal.. nenjinakath padarnnu pidichathu padaporuthuvaan veripidichutti'"
      ]
     },
     "execution_count": 3,
     "metadata": {},
     "output_type": "execute_result"
    }
   ],
   "source": [
    "songs[:98]"
   ]
  },
  {
   "cell_type": "code",
   "execution_count": 4,
   "metadata": {},
   "outputs": [],
   "source": [
    "# performing data preprocessing\n",
    "\n",
    "songs = songs.lower()\n",
    "songs = re.sub(r\"\\n\", \" \", songs).strip()\n",
    "proc_songs = re.sub(\"[^a-x ,]\", \"\", songs)"
   ]
  },
  {
   "cell_type": "code",
   "execution_count": 5,
   "metadata": {},
   "outputs": [
    {
     "data": {
      "text/plain": [
       "'ennilerinju thudangia thee kanal nenjinakath padarnnu pidichathu padaporuthuvaan veripidichutti kadal ilaki varunathu pole  maravichu thudangum nenjin kathakil mutti vilichath pole bhaamath maanju poke aathmavin pahuthiluude  thalarukilloru shakalavum ini patharukilloru chuvadilum theeil vaartheduthu vechaaudhathinte moorchaundente vakkilum  innu naalu dikkilum irul niranjuvenkilum poruthan thudangi parajithanini avukkillorikalum   ini oru puthia udaam ivide vidhie marikadannu pathie poa kaalam choohneduthathu njaan pidichedukkum athu thirike  vahangilla marikkum vareum pathanathin padi vaathilarike thirichu njaan nadannu thudangi ini aatra vijaathin pirake  kanuneerin ini viraamam kanuvukalkithenthu bhaaram engilum njaan sanjarikkum adhirthialla ee andhakaaram  nenjudepinu chudala thaalam pidi vidaathe chadula bhaavam vedi marruninnu thee pidichathu poleulla orithu vichaaram  ennilerinju thudangia thee kanal nenjinakath padarnnu pidichathu padaporuthuvaan veripidichutti kadal ilaki varunathu pole  maravichu thudangum nenjin kathakil mutti vilichath pole bhaamath maanju poke  aathmavin pahuthiluude  thalarukilloru shakalavum ini patharukilloru chuvadilum theeil vaartheduthu vechaaudhathinte  moorchaundente vakkilum  innu naalu dikkilum irul niranjuvenkilum poruthan thudangi parajithanini avukkillorikalum    thalarukilloru shakalavum ini patharukilloru chuvadilum theeil vaartheduthu vechaaudhathinte  moorchaundente vakkilum  innu naalu dikkilum irul niranjuvenkilum poruthan thudangi parajithanini avukkillorikalum  ,  nee mukilo puthumaha manio thooveilo erulala nihalo  ariillinnu neeenna chaarutha ariaminnithanende chethanaaa  uiril niraum athisaakara bhavammmmm  nee mukilo puthumaha manio thooveilo erulala nihalo  neeenna gaanathin chirakukaleri njanetho lokathil edariirangi  paadanai njan porum neramo  sruthi ariukailla raagam thaalam polum  nee mukilo puthumaha manio thooveilo erulala nihalo  neeenna meghathin padavukal kaari njanetho maaripoo thiraukaai  choodan mohamaa neelum kaikalil  ethaladarukaaano maaa swapnam pole  nee mukilo puthumaha manio thooveilo erulala nihalo  ariillinnu neeenna chaarutha ariaminnithanende chethana  uiril niraum athisaakara bhavam  ,  moha mundiri vaatia ravu sneha rathiude rasanilavu hridhaaragam chiragil virium madhuraveenjil shalabham varava adada paa ahagithaa udalithonna ohukan orukuri va  thottu thottu ninnu mutti mutti vannu mutham muthamittatharanu kannum kandarinj kathu katha kani kattedutha kalla kamukani  moha mundiri vaatia ravu sneha rathiude rasanilavu  iravumethail punarukenne ni arike njan varam thaniee pulariolama karathalangalil aliiminnunjan uiree akashatharam pole mannil ninnum ponne ennodonnu ishtamkoodan porille ni charee adada paa ahagithaa udalithonna ohukan orukuri va  thottu thottu ninnu mutti mutti vannu mutham muthamittatharanu kannum kandarinj kathu katha kani kattedutha kalla kamukani  moha mundiri vaatia ravu sneha rathiude rasanilavu hridhaaragham chiragil virium madhuraveenjil shalabham varava adada paa ahagithaa udalithonna ohukan orukuri va  thottu thottu ninnu mutti mutti vannu mutham muthamittatharanu kannum kandarinj kathu katha kani kattedutha kalla kamukani  ,  cherathukal thorum nin theormaaa tharaathe pom charuvam ummakalaal chuhalunnoreekuttakoorirul kaiolam njaneriamaaa  ulakin kadunovattum thanuthoru pularkatta veeshidam njaan ushasin naname thorthanirangum veilaidampaarilorunjalaalaaai njaan varaamninakakashamaa niraunnoree kannerkaangal kadal njaankareridamaaa  makane njanundarikathoru kanakannottamaa   ,  aaru nee devi aaro cholloo aare aare  wow wow ponnin kanikkonna adi mudi poothorungum wow chantham minungana minnalkkodi aarivale kanavilo kulirumaa viriumee mukhamini mashi thodaa mihiilo paralukal pidaave arunamaam kavililo pulario shalabhamo nadakalo nadikalaa ohukio wow  pattu thennal melle thotturummi poke pottaninju nilkkum mottulanju poo swapnam kandathellaam ullam kaiil thooki sneham noolkkum naadu swarggam thanne neee  theerathetho naalil pande ishtam thedi alanjenno vellitheril vinnil pokum meghathellaa pohiaathe  ponnin kanikkonna adi mudi poothorungum chantham minungana minnalkodi aarivale wow  kanavilo kulirumaa viriumee mukhamini mashi thodaa mihiilo paralukal pidaave arunamaam kavililo pulario shalabhamo nadakalo nadikalaa ohukio  ,  vaahakka vellarikka kathirikka koot raavath thappadich poratte nin paatt manja manja manja manja bulbukal minni minni minni minni kathumbol enthin ante babu babu babuvetta  enne nokkane enne nokkane enne nokkane  vaahakka vellarikka kathirikka koot koot koot koot koot koot koot koot raavath thappadich poratte nin paatt paatt paatt paatt paatt paatt paatt paatt   vevum mankalathil pacharithan choru puha meenitt vacha charu annan varumbohee cherikkokke veeru ara kuppi koodundelo joru kadikkana moorkhante pathikotha kannamma erumbinte polathe katti katta mea karimbanennalum neee     babuvetta babuvetta babuvetta babuvetta erumb karimb erumb karimb babuvetta babuvetta erumb karimb annan annum adi mudiada pada kalippa  vaahakka vellarikka kathirikka koot koot koot koot koot koot koot koot raavath thappadich poratte nin paatt   babuvetta chandamulla muscle kanda  chunkile chunka babuvetta njangade swantham babuvetta chundaran aakum babuvetta neeonn paad babuvetta  aadum kalathil bandadi nee ak viralu vach wistle uooth kathum petromaxin mantle onn neett kathinakk theeum vach oodu kalikkana mthanathin vattamulla nenjama udumbinte polathe chunkurapp massaa edanjalo pollappaane  babuvetta babuvetta babuvetta babuvetta erumb karimb erumb karimb babuvetta babuvetta erumb karimb annan annum adi mudiada pada kalippa  vaahakka vellarikka kathirikka koot raavath thappadich poratte nin paatt manja manja manja manja bulbukal minni minni minni minni kathumbol enthin ante babu babu babuvetta  ,   thiruvaavaniraavu manasaake nilavu malaala chundil malarona paattu  thiruvaavaniravu manasaake nilavu malaala chundil malarona paattu  mavin komberunoru poovali kuile maveli thambrante varavaaal chollu  thiruvaavaniravu manasake nilavu malaala chundil malarona paattu thiruvaavaniravu manasaake nilavu malaala chundil malarona paattu   poove poli poove poove    kadakannil mashi minnum murapennin kavalathu kurumbinte kulirumma sammanam pukooda niraikkuvaan pularmanjin kadavathu punnara kaatinta sanjaaram  ilaittu vilambunna ruchikalil vidarunnu niravaar ooninte santhosham poonkodi kasavittu oonjalil aadumbol nilavoramunarunnu sangeetham sangeetham  poove poli poove poli poove poove poove poli poove poove   thiruvaavaniraavu manasaake nilavu malaala chundil malarona paattu mavin komberunoru poovali kuile maveli thambrante varavaaal chollu  thiruvaavaniraavu manasaake nilavu malaala chundil malarona paattu  ,  sariga riga riga risadha sariga sariga risapagare garisa pagare dhapaga sadhapaagari garisadhasa sariga riga sariga rigapa dhapadha padhasa rigarisa dhasadhapagari garisadhaasaa  sada palaa sara saakshi sadaa paalaa sara saakshi sadaa paalaa sara saakshi samaana rahithaa samaana rahithaa mohanamgi sadaa paalaa sara saakshi samaana rahithaa samaana rahithaa mohanamgi sada paalaa sara saakshi samaana rahithaa mohanamgi sada paalaa aaaaaa aaaa  aaaa aaaaa  sudhaa madhuraa vaag vilaasini aaaaa aaaa  aaaaa sudhaa madhuraa vaag vilaasini sujalaaga mochanee suhasini  sada paalaa sara saakshi samaana rahithaa mohanamgi sada paalaa aaa aaaaa aaaaaa aaaaa  ,   ennuire penkilie ennakame thenn mahae nee enna vaakkin ullil pranaamaai nee enna vaakkin ullil pulariaai nee oralilen hridaamitha neela meghamaai alaukaaai  manjin kai viralaal kavilatho nee thahuki chandham koodi varum mahavillai maariival oru naru thaamaraaai ithalaniana paathi mugham oru mohiaalimanam kanavehuthia neer nadhiaai nee engaanengo kannin kanne thedi njaan     ennuire penkilie ennakame thenn mahae nee enna vaakkin ullil pranaamaai nee enna vaakkin ullil pulariaai  vaana neelima vaari ente kannil pethu aaroraal aadhamaai innithaa sneha soorane pulkodikku poovaai maaran aashathan pon veil thannu nee  novu kaalamoru sugha maraviil aliukaaai jeeva shaakha theru there adimudi malaranie ninte eenam onnu maatram thedi vanu njaan     manjin kai viralaal kavilatho nee thahuki chandham koodi varum mahavillai maariival oru naru thaamaraaai ithalaniana paathi mugham oru mohiaalimanam kanavehuthia neer nadhiaai nee engaanengo kannin kanne thedi njaan  ennuire penkilie ennakame thenn mahae nee enna vaakkin ullil pranaamaai nee oralilen hridaamitha neela meghamaai alaukaaai  ,   enithonnum arinjatheille punnara poonkuile nanaa nanaaa naaaaaa eneno neneno neneno neneno enundodi ambili chantham enundodi thamara chantham enundodi maarivil chantham enundodi maamaha chantham kammalitto pottu thotto enithonnum arinjatheille punnara poonkuile kaavalam kili kaathilu chollanu kannilithiri kanmashi vendennu kumbilil poomanavumaaethanu kaattu moolanu karivala vendennu enthinaavo ethinaavo enithonnum arinjatheille panjaara poonkuile enundodi enundodi ambili chantham enundodi thamara chantham kochari mullathakkam paraanu kaarmudichutti poovonnu kettannu poothorungi ilanjium chollanu melu vaasanathailam purattaannu enthinaavo ethinaavo neeee marimaaam ellamarinjttum mindathe nikkaanalle enundodi ambili chantham enundodi thamara chantham enundodi maarivil chantham enundodi maamaha chantham kammalitto mmm mmm enithonnum arinjatheille punnara poonkuile  ,  pooram kaanan nium porente pennee chelem chaanthum thannillalo ponne ponillanne aah pooram kaanan nium porente pennee chelem chaanthum thannillalo ponne ponillanne  neeillathengane njan penne povaa poorathinu vannal chaandum valem tharaam chelothoru chela ponne ni thannidanam ennaleenum poorathinu vanneedam  eele elamaleelamalee eelamaleeloo   pooram kaanan nium porente pennee chelem chaanthum thannillalo ponne ponillanne  kaiidan karivala illaa nee onnathu konde thaa kathilidan kammal illa nee onnathu konde thaa kannehuthan kari mashi illaa nee onnathu konde thaa ithonnumillanjaal poorathinu ponillaa  pooram kaanan nium ponundo di edi neram poe chela veno enne veno penne novunnundee  aaahaa  eenidaan chelaundo nee onnathu konde thaa kail kaalanaundo nee onnathu konde thaa chorathoru puraundo nee onnathu konde thaa eenonnum vendaae poorathinu ponillaa  kodietam kandathallediee erangana kodi kaanan povandee penne kail irikana njaarum vilaum thevaru thannoru nidhiaane peruvathu kadavile pooram podi paaran pone  thevare kandu vanangi njaru nadunoru nerathu maanathengo velli minukkam nenjin thaalam maarille  thevare kandu vanageettalla pennaale pathaaam niraum nellu kothu thudangiathu  pooram kaanan nium porente pennee  eele elamaleelamalee eelamaleeloo   pooram kaanannjanum poramen ponne edi neram poee  ,  ethu mahailum aalum oru thirinaalam raavu pakalorupole viriana tharam novukaripuka oothi eri virakai meenaveilodu koode vahi palatheri padam ehuthia jeevakathaude aedil oru lipiai aere vijanatha choolumirulilum aashaathu kalaathe chiri thooki mukila ni niravanin kara thedi ethu mahailum aalum oru thirinaalam raavu pakalorupole viriana tharam hridaamulaum murivumohial moodi samaamanipol idail nilkathe nooru kadamakal aeru chumadukalai neelamihikalil moha mashianiathe uiree ni valarana kanavolam uarana ethu mahailum aalum oru thirinaalam raavu pakalorupole viriana tharam padam ehuthia jeevakathaude aedil oru lipiai aere vijanatha choolumirulilum aashaathu kalaathe chiri thooki mukila ni niravanin kara thedi   ,  vaanamakalunnuvo koorirulu moodio vaarmukilu poleee mohamaliunnuvo veenohium ekaantha mookaabhilaasham paavamoru raappaadi polinnu thengi veendumuaraan paadialaaan aaru chirakekuvaan  veendumuaraan paadialaaan aaru chirakekuvaan vaanamakalunnuvo koorirulu moodio  vaarmukilu poleee mohamaliunnuvo  arikil thonnaloru maaa akaleakale doore aakaasha lokam koorampu pole paaunna moham veehunnu thaahe mahappaatta pol ohukiohuki maraum poonthennale nee veruthe inium orkkaan thooval tharaamo aa smera naalam maraunna neram paahman chiraathaa maarunnu jeevan  vaanamakalunnuvo koorirulu moodio vaarmukilu poleee mohamaliunnuvo veenohium ekaantha mookaabhilaasham paavamoru raappaadi polinnu thengi veendumuaraan paadialaaan aaru chirakekuvaan   vaanamakalunnuvo koorirulu moodio vaarmukilu poleee mohamaliunnuvo umumum  ,   kadukumanikkoru kannundu kanninakathoru karadundu kadalundeennoru changaaee kaaa varuthu kahinjittu kudamoru kallu kudichittu karimeen mullu kudichittu kalaham paraan kavalailinnoru kannada vaangi varunnundu  kallippaala punchiri poloru kanmashiaale kanaanaa koombia konthala mundel murukia kalkkanda kadha kelkkaanaa kandal cheril kaalukal chithari kannil kaaalthirakalumaa kaalichaaa kadavukal thaandi kondu pidichu varunnundu kadhaude kadamoru kachaankaattil kudaude keehil karuthaan paraunnavalude karalil karivalaaadana kadalodiunnundu kavilil kavaruthirunnundu kavilil kavaruthirunnundu   ,  neeillathe jeevitham venda penne venda marupakuthi ithennum neealle odippokum kattile podimaha mathiri enne nee thanichakkidalle ingane  njanum neeum chernal, paalum thenum pole madhurithamai ilakiohukum oru puhaai niraumivide  neeillathe jeevitham venda ponne venda marupakuthi ithennum neealle  neeente ullil pande koodunu koottiathalle pokaan  ithengu pokan oru nihalai mahail veilil purakil alaum ninne kandal enthinee kallakkopam ponne pidi vahuthana kanni poomeene  ninnodu cherukaallaathillonnum ashichathilla doore  orolam pole akalaruthe niraum irulil maraaruthe aruthe   neeillathe enthinee ravum pakalum penne marupakuthi ithennum neealle odippokum kattile podimaha mathiri enne nee thanichakkidalle ingane  njanum neeum chernal paalum thenum pole madhurithamai ilakiohukum oru puhaai niraumivide  neeillathe jeevitham venda penne venda marupakuthi ithennum neealle'"
      ]
     },
     "execution_count": 5,
     "metadata": {},
     "output_type": "execute_result"
    }
   ],
   "source": [
    "proc_songs"
   ]
  },
  {
   "cell_type": "code",
   "execution_count": 9,
   "metadata": {},
   "outputs": [],
   "source": [
    "# splitting different songs\n",
    "\n",
    "song_list = proc_songs.split(\",\")"
   ]
  },
  {
   "cell_type": "code",
   "execution_count": 10,
   "metadata": {},
   "outputs": [
    {
     "data": {
      "text/plain": [
       "16"
      ]
     },
     "execution_count": 10,
     "metadata": {},
     "output_type": "execute_result"
    }
   ],
   "source": [
    "len(song_list)"
   ]
  },
  {
   "cell_type": "code",
   "execution_count": 11,
   "metadata": {},
   "outputs": [],
   "source": [
    "# creating the data\n",
    "\n",
    "data = []\n",
    "n = 8\n",
    "\n",
    "for song in song_list:\n",
    "    words_list = song.split()\n",
    "    \n",
    "    for i in range(0, len(words_list)+1, n):\n",
    "        data.append(\" \".join(words_list[i:i+n]))"
   ]
  },
  {
   "cell_type": "code",
   "execution_count": 12,
   "metadata": {},
   "outputs": [
    {
     "data": {
      "text/plain": [
       "'veripidichutti kadal ilaki varunathu pole maravichu thudangum nenjin'"
      ]
     },
     "execution_count": 12,
     "metadata": {},
     "output_type": "execute_result"
    }
   ],
   "source": [
    "data[1]"
   ]
  },
  {
   "cell_type": "code",
   "execution_count": 13,
   "metadata": {},
   "outputs": [
    {
     "data": {
      "text/plain": [
       "211"
      ]
     },
     "execution_count": 13,
     "metadata": {},
     "output_type": "execute_result"
    }
   ],
   "source": [
    "len(data)"
   ]
  },
  {
   "cell_type": "code",
   "execution_count": 14,
   "metadata": {},
   "outputs": [],
   "source": [
    "# converting it to a dataframe\n",
    "\n",
    "df = pd.DataFrame(data)\n",
    "df.columns = [\"Lyrics\"]"
   ]
  },
  {
   "cell_type": "code",
   "execution_count": 15,
   "metadata": {},
   "outputs": [
    {
     "data": {
      "text/html": [
       "<div>\n",
       "<style scoped>\n",
       "    .dataframe tbody tr th:only-of-type {\n",
       "        vertical-align: middle;\n",
       "    }\n",
       "\n",
       "    .dataframe tbody tr th {\n",
       "        vertical-align: top;\n",
       "    }\n",
       "\n",
       "    .dataframe thead th {\n",
       "        text-align: right;\n",
       "    }\n",
       "</style>\n",
       "<table border=\"1\" class=\"dataframe\">\n",
       "  <thead>\n",
       "    <tr style=\"text-align: right;\">\n",
       "      <th></th>\n",
       "      <th>Lyrics</th>\n",
       "    </tr>\n",
       "  </thead>\n",
       "  <tbody>\n",
       "    <tr>\n",
       "      <th>0</th>\n",
       "      <td>ennilerinju thudangia thee kanal nenjinakath p...</td>\n",
       "    </tr>\n",
       "    <tr>\n",
       "      <th>1</th>\n",
       "      <td>veripidichutti kadal ilaki varunathu pole mara...</td>\n",
       "    </tr>\n",
       "    <tr>\n",
       "      <th>2</th>\n",
       "      <td>kathakil mutti vilichath pole bhaamath maanju ...</td>\n",
       "    </tr>\n",
       "    <tr>\n",
       "      <th>3</th>\n",
       "      <td>pahuthiluude thalarukilloru shakalavum ini pat...</td>\n",
       "    </tr>\n",
       "    <tr>\n",
       "      <th>4</th>\n",
       "      <td>vechaaudhathinte moorchaundente vakkilum innu ...</td>\n",
       "    </tr>\n",
       "  </tbody>\n",
       "</table>\n",
       "</div>"
      ],
      "text/plain": [
       "                                              Lyrics\n",
       "0  ennilerinju thudangia thee kanal nenjinakath p...\n",
       "1  veripidichutti kadal ilaki varunathu pole mara...\n",
       "2  kathakil mutti vilichath pole bhaamath maanju ...\n",
       "3  pahuthiluude thalarukilloru shakalavum ini pat...\n",
       "4  vechaaudhathinte moorchaundente vakkilum innu ..."
      ]
     },
     "execution_count": 15,
     "metadata": {},
     "output_type": "execute_result"
    }
   ],
   "source": [
    "df.head(5)"
   ]
  },
  {
   "cell_type": "code",
   "execution_count": 16,
   "metadata": {},
   "outputs": [],
   "source": [
    "# saving the csv file\n",
    "\n",
    "df.to_csv(\"Data/lyrics_data.csv\", index = False)"
   ]
  },
  {
   "cell_type": "code",
   "execution_count": null,
   "metadata": {},
   "outputs": [],
   "source": []
  }
 ],
 "metadata": {
  "kernelspec": {
   "display_name": "Python 3",
   "language": "python",
   "name": "python3"
  },
  "language_info": {
   "codemirror_mode": {
    "name": "ipython",
    "version": 3
   },
   "file_extension": ".py",
   "mimetype": "text/x-python",
   "name": "python",
   "nbconvert_exporter": "python",
   "pygments_lexer": "ipython3",
   "version": "3.7.6"
  }
 },
 "nbformat": 4,
 "nbformat_minor": 4
}
